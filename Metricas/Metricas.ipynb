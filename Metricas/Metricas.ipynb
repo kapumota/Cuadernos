{
 "cells": [
  {
   "cell_type": "markdown",
   "id": "f1f19a2a",
   "metadata": {},
   "source": [
    "### Métricas de clasificación\n",
    "\n",
    "Reutilizamos el cuaderno anterior."
   ]
  },
  {
   "cell_type": "code",
   "execution_count": null,
   "id": "9b0e7374",
   "metadata": {},
   "outputs": [],
   "source": [
    "import pandas as pd\n",
    "import numpy as np\n",
    "\n",
    "import seaborn as sns\n",
    "from matplotlib import pyplot as plt\n",
    "%matplotlib inline"
   ]
  },
  {
   "cell_type": "code",
   "execution_count": null,
   "id": "569c0b20",
   "metadata": {},
   "outputs": [],
   "source": [
    "from sklearn.model_selection import train_test_split\n",
    "from sklearn.feature_extraction import DictVectorizer\n",
    "from sklearn.linear_model import LogisticRegression"
   ]
  },
  {
   "cell_type": "code",
   "execution_count": null,
   "id": "a4fd0aca",
   "metadata": {},
   "outputs": [],
   "source": [
    "df = pd.read_csv('Data.csv')\n",
    "\n",
    "df['TotalCharges'] = pd.to_numeric(df['TotalCharges'], errors='coerce')\n",
    "df['TotalCharges'] = df['TotalCharges'].fillna(0)\n",
    "\n",
    "df.columns = df.columns.str.lower().str.replace(' ', '_')\n",
    "\n",
    "cadena_columnas = list(df.dtypes[df.dtypes == 'object'].index)\n",
    "\n",
    "for col in cadena_columnas:\n",
    "    df[col] = df[col].str.lower().str.replace(' ', '_')\n",
    "\n",
    "df.churn = (df.churn == 'yes').astype(int)"
   ]
  },
  {
   "cell_type": "markdown",
   "id": "d876dbcd",
   "metadata": {},
   "source": [
    "Modelo completo"
   ]
  },
  {
   "cell_type": "code",
   "execution_count": null,
   "id": "c45f8adc",
   "metadata": {},
   "outputs": [],
   "source": [
    "df_train_completo, df_test = train_test_split(df, test_size=0.2, random_state=1)\n",
    "df_train, df_val = train_test_split(df_train_completo, test_size=0.33, random_state=11)\n",
    "\n",
    "y_train = df_train.churn.values\n",
    "y_val = df_val.churn.values\n",
    "\n",
    "del df_train['churn']\n",
    "del df_val['churn']"
   ]
  },
  {
   "cell_type": "code",
   "execution_count": null,
   "id": "83871fdb",
   "metadata": {},
   "outputs": [],
   "source": [
    "categoricas = ['gender', 'seniorcitizen', 'partner', 'dependents',\n",
    "               'phoneservice', 'multiplelines', 'internetservice',\n",
    "               'onlinesecurity', 'onlinebackup', 'deviceprotection',\n",
    "               'techsupport', 'streamingtv', 'streamingmovies',\n",
    "               'contract', 'paperlessbilling', 'paymentmethod']\n",
    "numericas = ['tenure', 'monthlycharges', 'totalcharges']\n"
   ]
  },
  {
   "cell_type": "code",
   "execution_count": null,
   "id": "0e4936aa",
   "metadata": {},
   "outputs": [],
   "source": [
    "train_dict = df_train[categoricas + numericas].to_dict(orient='records')\n",
    "dv = DictVectorizer(sparse=False)\n",
    "dv.fit(train_dict)\n",
    "\n",
    "X_train = dv.transform(train_dict)"
   ]
  },
  {
   "cell_type": "code",
   "execution_count": null,
   "id": "17d07e39",
   "metadata": {},
   "outputs": [],
   "source": [
    "import warnings\n",
    "warnings.filterwarnings(\"ignore\")\n",
    "\n",
    "modeloRL = LogisticRegression(solver='liblinear', random_state=1)\n",
    "modeloRL.fit(X_train, y_train)"
   ]
  },
  {
   "cell_type": "code",
   "execution_count": null,
   "id": "241aa824",
   "metadata": {},
   "outputs": [],
   "source": [
    "val_dict = df_val[categoricas + numericas].to_dict(orient='records')\n",
    "X_val = dv.transform(val_dict)\n",
    "y_pred= modeloRL.predict_proba(X_val)[:, 1]"
   ]
  },
  {
   "cell_type": "markdown",
   "id": "4cb24696",
   "metadata": {},
   "source": [
    "Un modelo más pequeño para desarrollar."
   ]
  },
  {
   "cell_type": "code",
   "execution_count": null,
   "id": "af7f1448",
   "metadata": {},
   "outputs": [],
   "source": [
    "subconjunto = ['contract', 'tenure', 'totalcharges']\n",
    "train_dict_sub = df_train[subconjunto].to_dict(orient='records')\n",
    "dv_sub = DictVectorizer(sparse=False)\n",
    "dv_sub.fit(train_dict_sub)\n",
    "\n",
    "X_sub_train = dv_sub.transform(train_dict_sub)\n",
    "\n",
    "submodeloRL = LogisticRegression(solver='liblinear', random_state=1)\n",
    "submodeloRL.fit(X_sub_train, y_train)"
   ]
  },
  {
   "cell_type": "code",
   "execution_count": null,
   "id": "e9e49263",
   "metadata": {},
   "outputs": [],
   "source": [
    "sub_val_dict = df_val[subconjunto].to_dict(orient='records')\n",
    "X_sub_val = dv_sub.transform(sub_val_dict)\n",
    "\n",
    "sub_y_pred = submodeloRL.predict_proba(X_sub_val)[:, 1]"
   ]
  },
  {
   "cell_type": "markdown",
   "id": "a0a6e052",
   "metadata": {},
   "source": [
    "#### Exactitud\n",
    "\n",
    "Exactitud para el modelo completo."
   ]
  },
  {
   "cell_type": "code",
   "execution_count": null,
   "id": "7fbcba23",
   "metadata": {},
   "outputs": [],
   "source": [
    "y_pred = modeloRL.predict_proba(X_val)[:, 1]\n",
    "churn = y_pred >= 0.5\n",
    "(churn == y_val).mean()"
   ]
  },
  {
   "cell_type": "code",
   "execution_count": null,
   "id": "3d07abae",
   "metadata": {},
   "outputs": [],
   "source": [
    "from sklearn.metrics import accuracy_score"
   ]
  },
  {
   "cell_type": "code",
   "execution_count": null,
   "id": "6606fa0e",
   "metadata": {},
   "outputs": [],
   "source": [
    "accuracy_score(y_val, y_pred >= 0.5)"
   ]
  },
  {
   "cell_type": "markdown",
   "id": "27640fc7",
   "metadata": {},
   "source": [
    "Exactitud para el modelo más pequeño"
   ]
  },
  {
   "cell_type": "code",
   "execution_count": null,
   "id": "f636f2bf",
   "metadata": {},
   "outputs": [],
   "source": [
    "#val_dict_sub = df_val[subconjunto].to_dict(orient='records')\n",
    "#X_sub_val = dv_sub.transform(val_dict_sub)\n",
    "#sub_y_pred= submodeloRL.predict_proba(X_sub_val)[:, 1]\n",
    "#sub_churn = sub_y_pred >= 0.5\n",
    "#accuracy_score(y_val, sub_churn)"
   ]
  },
  {
   "cell_type": "code",
   "execution_count": null,
   "id": "efa219dc",
   "metadata": {},
   "outputs": [],
   "source": [
    "umbrales = np.linspace(0, 1, 11)\n",
    "umbrales"
   ]
  },
  {
   "cell_type": "code",
   "execution_count": null,
   "id": "7660fd63",
   "metadata": {},
   "outputs": [],
   "source": [
    "umbrales = np.linspace(0, 1, 21)\n",
    "\n",
    "exactitudes = []\n",
    "\n",
    "for t in umbrales:\n",
    "    acc = accuracy_score(y_val, y_pred >= t)\n",
    "    exactitudes.append(acc)\n",
    "    print('%0.2f %0.3f' % (t, acc))"
   ]
  },
  {
   "cell_type": "code",
   "execution_count": null,
   "id": "d7979267",
   "metadata": {},
   "outputs": [],
   "source": [
    "plt.figure(figsize=(6, 4))\n",
    "\n",
    "plt.plot(umbrales,exactitudes, color='black')\n",
    "\n",
    "plt.title('Umbral vs Exactitud')\n",
    "plt.xlabel('Umbral')\n",
    "plt.ylabel('Exactitud')\n",
    "\n",
    "plt.xticks(np.linspace(0, 1, 11))\n",
    "\n",
    "plt.show()"
   ]
  },
  {
   "cell_type": "code",
   "execution_count": null,
   "id": "7c906bcd",
   "metadata": {},
   "outputs": [],
   "source": [
    "sub_churn = sub_y_pred >= 0.5\n",
    "(sub_churn == y_val).mean()"
   ]
  },
  {
   "cell_type": "code",
   "execution_count": null,
   "id": "e84ba4cf",
   "metadata": {},
   "outputs": [],
   "source": [
    "accuracy_score(y_val, sub_churn)"
   ]
  },
  {
   "cell_type": "markdown",
   "id": "007193c9",
   "metadata": {},
   "source": [
    "Exactitud para un baseline inicial"
   ]
  },
  {
   "cell_type": "code",
   "execution_count": null,
   "id": "babe93fe",
   "metadata": {},
   "outputs": [],
   "source": [
    "size_val = len(y_val)\n",
    "baseline = np.repeat(False, size_val)\n",
    "baseline"
   ]
  },
  {
   "cell_type": "markdown",
   "id": "a4c745dd",
   "metadata": {},
   "source": [
    "Ahora podemos verificar la exactitud de esta predicción del baseline usando el mismo código que usamos anteriormente: \n"
   ]
  },
  {
   "cell_type": "code",
   "execution_count": null,
   "id": "3a7b5387",
   "metadata": {},
   "outputs": [],
   "source": [
    "accuracy_score(baseline, y_val)"
   ]
  },
  {
   "cell_type": "markdown",
   "id": "8ea8e2f4",
   "metadata": {},
   "source": [
    "#### Tabla de confusión"
   ]
  },
  {
   "cell_type": "code",
   "execution_count": null,
   "id": "5b24edee",
   "metadata": {},
   "outputs": [],
   "source": [
    "verdadero_positivo = ((y_pred >= 0.5) & (y_val == 1)).sum()\n",
    "falso_positivo = ((y_pred >= 0.5) & (y_val == 0)).sum()\n",
    "falso_negativo = ((y_pred < 0.5) & (y_val == 1)).sum()\n",
    "verdadero_negativo = ((y_pred < 0.5) & (y_val == 0)).sum()"
   ]
  },
  {
   "cell_type": "code",
   "execution_count": null,
   "id": "7d64c870",
   "metadata": {},
   "outputs": [],
   "source": [
    "tabla_confusion = np.array(\n",
    "     # predict neg    pos\n",
    "    [[verdadero_negativo, falso_positivo], # actual neg\n",
    "     [falso_negativo, verdadero_positivo]]) # actual pos\n",
    "\n",
    "tabla_confusion"
   ]
  },
  {
   "cell_type": "code",
   "execution_count": null,
   "id": "d9105581",
   "metadata": {},
   "outputs": [],
   "source": [
    "tabla_confusion / tabla_confusion.sum()"
   ]
  },
  {
   "cell_type": "markdown",
   "id": "f85a2b66",
   "metadata": {},
   "source": [
    "Tabla de confusión para el submodelo propuesto."
   ]
  },
  {
   "cell_type": "code",
   "execution_count": null,
   "id": "3f6668e5",
   "metadata": {},
   "outputs": [],
   "source": [
    "verdadero_positivo = ((sub_y_pred >= 0.5) & (y_val == 1)).sum()\n",
    "falso_positivo = ((sub_y_pred >= 0.5) & (y_val == 0)).sum()\n",
    "falso_negativo = ((sub_y_pred < 0.5) & (y_val == 1)).sum()\n",
    "verdadero_negativo = ((sub_y_pred < 0.5) & (y_val == 0)).sum()"
   ]
  },
  {
   "cell_type": "code",
   "execution_count": null,
   "id": "9f9fa733",
   "metadata": {},
   "outputs": [],
   "source": [
    "tabla_confusion = np.array(\n",
    "     # predict neg    pos\n",
    "    [[verdadero_negativo, falso_positivo], # actual neg\n",
    "     [falso_negativo, verdadero_positivo]]) # actual pos\n",
    "\n",
    "tabla_confusion"
   ]
  },
  {
   "cell_type": "code",
   "execution_count": null,
   "id": "0d73820a",
   "metadata": {},
   "outputs": [],
   "source": [
    "tabla_confusion / tabla_confusion.sum()"
   ]
  },
  {
   "cell_type": "markdown",
   "id": "fb0de2c1",
   "metadata": {},
   "source": [
    "#### Precisión y exhaustividad"
   ]
  },
  {
   "cell_type": "code",
   "execution_count": null,
   "id": "8edb78b4",
   "metadata": {},
   "outputs": [],
   "source": [
    "precision = verdadero_positivo / (verdadero_positivo + falso_positivo)\n",
    "exhaustividad =  verdadero_positivo / (verdadero_positivo + falso_negativo)\n",
    "precision, exhaustividad"
   ]
  },
  {
   "cell_type": "code",
   "execution_count": null,
   "id": "8328c80c",
   "metadata": {},
   "outputs": [],
   "source": [
    "tabla_confusion / tabla_confusion.sum()"
   ]
  },
  {
   "cell_type": "code",
   "execution_count": null,
   "id": "e84e5a0c",
   "metadata": {},
   "outputs": [],
   "source": [
    "precision = verdadero_positivo / (verdadero_positivo + falso_positivo)\n",
    "exhaustividad = verdadero_positivo / (verdadero_positivo + falso_negativo)\n",
    "precision, exhaustividad"
   ]
  },
  {
   "cell_type": "markdown",
   "id": "06133513",
   "metadata": {},
   "source": [
    "#### ROC y AUC\n",
    "\n",
    "TPR y FPR"
   ]
  },
  {
   "cell_type": "code",
   "execution_count": null,
   "id": "90ba799e",
   "metadata": {},
   "outputs": [],
   "source": [
    "puntuaciones = []\n",
    "\n",
    "umbrales = np.linspace(0, 1, 101)\n",
    "\n",
    "for t in umbrales: #B\n",
    "    tp = ((y_pred >= t) & (y_val == 1)).sum()\n",
    "    fp = ((y_pred >= t) & (y_val == 0)).sum()\n",
    "    fn = ((y_pred < t) & (y_val == 1)).sum()\n",
    "    tn = ((y_pred < t) & (y_val == 0)).sum()\n",
    "    puntuaciones.append((t, tp, fp, fn, tn))\n",
    "\n",
    "df_puntuaciones = pd.DataFrame(puntuaciones)\n",
    "df_puntuaciones.columns = ['umbral', 'tp', 'fp', 'fn', 'tn']"
   ]
  },
  {
   "cell_type": "code",
   "execution_count": null,
   "id": "dcbae18f",
   "metadata": {},
   "outputs": [],
   "source": [
    "df_puntuaciones[::10]"
   ]
  },
  {
   "cell_type": "code",
   "execution_count": null,
   "id": "dedb9fe2",
   "metadata": {},
   "outputs": [],
   "source": [
    "df_puntuaciones['tpr'] = df_puntuaciones.tp / (df_puntuaciones.tp + df_puntuaciones.fn)\n",
    "df_puntuaciones['fpr'] = df_puntuaciones.fp / (df_puntuaciones.fp + df_puntuaciones.tn)"
   ]
  },
  {
   "cell_type": "code",
   "execution_count": null,
   "id": "cefa5983",
   "metadata": {},
   "outputs": [],
   "source": [
    "df_puntuaciones[::10]"
   ]
  },
  {
   "cell_type": "code",
   "execution_count": null,
   "id": "cafeaee4",
   "metadata": {},
   "outputs": [],
   "source": [
    "plt.figure(figsize=(6, 4))\n",
    "\n",
    "plt.plot(df_puntuaciones.umbral, df_puntuaciones.tpr, color='black', linestyle='solid', label='TPR')\n",
    "plt.plot(df_puntuaciones.umbral, df_puntuaciones.fpr, color='black', linestyle='dashed', label='FPR')\n",
    "plt.legend()\n",
    "\n",
    "plt.xticks(np.linspace(0, 1, 11))\n",
    "plt.yticks(np.linspace(0, 1, 11))\n",
    "\n",
    "plt.xlabel('Umbrales')\n",
    "plt.title('TPR y FPR')\n",
    "\n",
    "plt.show()"
   ]
  },
  {
   "cell_type": "markdown",
   "id": "882ed5ab",
   "metadata": {},
   "source": [
    "#### Baseline aleatorio"
   ]
  },
  {
   "cell_type": "code",
   "execution_count": null,
   "id": "3dd83bde",
   "metadata": {},
   "outputs": [],
   "source": [
    "def dataframe_tpr_fpr(y_val, y_pred):\n",
    "    puntuaciones = []\n",
    "\n",
    "    umbrales = np.linspace(0, 1, 101)\n",
    "\n",
    "    for t in umbrales:\n",
    "        tp = ((y_pred >= t) & (y_val == 1)).sum()\n",
    "        fp = ((y_pred >= t) & (y_val == 0)).sum()\n",
    "        fn = ((y_pred < t) & (y_val == 1)).sum()\n",
    "        tn = ((y_pred < t) & (y_val == 0)).sum()\n",
    "\n",
    "        puntuaciones.append((t, tp, fp, fn, tn))\n",
    "\n",
    "    df_puntuaciones = pd.DataFrame(puntuaciones)\n",
    "    df_puntuaciones.columns = ['umbral', 'tp', 'fp', 'fn', 'tn']\n",
    "\n",
    "    df_puntuaciones['tpr'] = df_puntuaciones.tp / (df_puntuaciones.tp + df_puntuaciones.fn)\n",
    "    df_puntuaciones['fpr'] = df_puntuaciones.fp / (df_puntuaciones.fp + df_puntuaciones.tn)\n",
    "\n",
    "    return df_puntuaciones"
   ]
  },
  {
   "cell_type": "code",
   "execution_count": null,
   "id": "5bac77a4",
   "metadata": {},
   "outputs": [],
   "source": [
    "np.random.seed(1)\n",
    "y_rand = np.random.uniform(0, 1, size=len(y_val))\n",
    "df_rand = dataframe_tpr_fpr(y_val, y_rand)\n",
    "df_rand[::10]"
   ]
  },
  {
   "cell_type": "code",
   "execution_count": null,
   "id": "c795ff26",
   "metadata": {},
   "outputs": [],
   "source": [
    "plt.figure(figsize=(6, 4))\n",
    "\n",
    "plt.plot(df_rand.umbral, df_rand.tpr, color='black', linestyle='solid', label='TPR')\n",
    "plt.plot(df_rand.umbral, df_rand.fpr, color='black', linestyle='dashed', label='FPR')\n",
    "plt.legend()\n",
    "\n",
    "plt.xticks(np.linspace(0, 1, 11))\n",
    "plt.yticks(np.linspace(0, 1, 11))\n",
    "\n",
    "plt.xlabel('Umbrales')\n",
    "plt.title('TPR y FPR para el modelo aleatorio')\n",
    "\n",
    "plt.show()"
   ]
  },
  {
   "cell_type": "markdown",
   "id": "734e15e0",
   "metadata": {},
   "source": [
    "#### Baseline ideal"
   ]
  },
  {
   "cell_type": "code",
   "execution_count": null,
   "id": "e56d036b",
   "metadata": {},
   "outputs": [],
   "source": [
    "num_neg = (y_val == 0).sum()\n",
    "num_pos = (y_val == 1).sum()\n",
    "\n",
    "y_ideal = np.repeat([0, 1], [num_neg, num_pos])\n",
    "y_pred_ideal = np.linspace(0, 1, num_neg + num_pos)\n",
    "\n",
    "df_ideal = dataframe_tpr_fpr(y_ideal, y_pred_ideal)\n",
    "df_ideal[::10]"
   ]
  },
  {
   "cell_type": "code",
   "execution_count": null,
   "id": "2b36b21f",
   "metadata": {},
   "outputs": [],
   "source": [
    "plt.figure(figsize=(6, 4))\n",
    "\n",
    "plt.plot(df_ideal.umbral, df_ideal.tpr, color='black', linestyle='solid', label='TPR')\n",
    "plt.plot(df_ideal.umbral, df_ideal.fpr, color='black', linestyle='dashed', label='FPR')\n",
    "plt.legend()\n",
    "\n",
    "plt.xticks(np.linspace(0, 1, 11))\n",
    "plt.yticks(np.linspace(0, 1, 11))\n",
    "\n",
    "plt.vlines(1 - y_val.mean(), -1, 2, linewidth=0.5, linestyle='dashed', color='grey')\n",
    "plt.ylim(-0.03, 1.03)\n",
    "\n",
    "plt.xlabel('Umbrales')\n",
    "plt.title('TPR y FPR para el modelo ideal')\n",
    "\n",
    "plt.show()"
   ]
  },
  {
   "cell_type": "markdown",
   "id": "a4349ea0",
   "metadata": {},
   "source": [
    "#### Curva ROC"
   ]
  },
  {
   "cell_type": "code",
   "execution_count": null,
   "id": "4bc9ffd7",
   "metadata": {},
   "outputs": [],
   "source": [
    "plt.figure(figsize=(5, 5))\n",
    "\n",
    "plt.plot(df_puntuaciones.fpr, df_puntuaciones.tpr, color='black', label='Modelo')\n",
    "plt.plot(df_rand.fpr, df_rand.tpr, color='black', lw=1,\n",
    "         linestyle='dashed', alpha=0.5, label='Aleatorio')\n",
    "plt.plot(df_ideal.fpr, df_ideal.tpr, color='black', lw=0.5,\n",
    "         linestyle='solid', alpha=0.5, label='Ideal')\n",
    "\n",
    "plt.legend()\n",
    "\n",
    "plt.xlim([-0.02, 1.02])\n",
    "plt.ylim([-0.02, 1.02])\n",
    "plt.xlabel('Tasa de Falsos Positivos')\n",
    "plt.ylabel('Tasa de Verderos Positivos')\n",
    "\n",
    "plt.title('Curva ROC')\n",
    "\n",
    "\n",
    "plt.show()"
   ]
  },
  {
   "cell_type": "code",
   "execution_count": null,
   "id": "2a666c8d",
   "metadata": {},
   "outputs": [],
   "source": [
    "plt.figure(figsize=(5, 5))\n",
    "\n",
    "plt.plot(df_puntuaciones.fpr, df_puntuaciones.tpr, color='black')\n",
    "plt.plot([0, 1], [0, 1], color='black', lw=0.7, linestyle='dashed', alpha=0.5)\n",
    "\n",
    "plt.xlim([-0.02, 1.02])\n",
    "plt.ylim([-0.02, 1.02])\n",
    "plt.xlabel('Tasa de Falsos Positivos')\n",
    "plt.ylabel('Tasa de Verdaderos Negativos')\n",
    "\n",
    "plt.title('Curva ROC')\n",
    "\n",
    "plt.show()"
   ]
  },
  {
   "cell_type": "markdown",
   "id": "a94f5b98",
   "metadata": {},
   "source": [
    "### Usando Scikit-Learn para dibujar la curva ROC"
   ]
  },
  {
   "cell_type": "code",
   "execution_count": null,
   "id": "4f1d5217",
   "metadata": {},
   "outputs": [],
   "source": [
    "from sklearn.metrics import roc_curve\n",
    "from sklearn.metrics import auc"
   ]
  },
  {
   "cell_type": "code",
   "execution_count": null,
   "id": "df989dc6",
   "metadata": {},
   "outputs": [],
   "source": [
    "fpr, tpr, umbrales = roc_curve(y_val, y_pred)"
   ]
  },
  {
   "cell_type": "code",
   "execution_count": null,
   "id": "89ab4259",
   "metadata": {},
   "outputs": [],
   "source": [
    "plt.figure(figsize=(5, 5))\n",
    "\n",
    "plt.plot(fpr, tpr, color='black')\n",
    "plt.plot([0, 1], [0, 1], color='black', lw=0.7, linestyle='dashed', alpha=0.5)\n",
    "\n",
    "plt.xlim([-0.02, 1.02])\n",
    "plt.ylim([-0.02, 1.02])\n",
    "plt.xlabel('Tasa de Falso Positivo')\n",
    "plt.ylabel('Tasa de Verdadero Positivo')\n",
    "\n",
    "plt.title('Curva ROC')\n",
    "\n",
    "plt.show()"
   ]
  },
  {
   "cell_type": "markdown",
   "id": "1db44e1c",
   "metadata": {},
   "source": [
    "#### AUC: Area bajo la curva ROC"
   ]
  },
  {
   "cell_type": "code",
   "execution_count": null,
   "id": "c540de83",
   "metadata": {},
   "outputs": [],
   "source": [
    "df_sub_puntuaciones = dataframe_tpr_fpr(y_val, sub_y_pred)"
   ]
  },
  {
   "cell_type": "code",
   "execution_count": null,
   "id": "819ab917",
   "metadata": {},
   "outputs": [],
   "source": [
    "auc(df_puntuaciones.fpr, df_puntuaciones.tpr)"
   ]
  },
  {
   "cell_type": "code",
   "execution_count": null,
   "id": "eeea2046",
   "metadata": {},
   "outputs": [],
   "source": [
    "auc(df_sub_puntuaciones.fpr, df_sub_puntuaciones.tpr)"
   ]
  },
  {
   "cell_type": "markdown",
   "id": "607ba405",
   "metadata": {},
   "source": [
    "Comparando múltiples modelos con curvas ROC"
   ]
  },
  {
   "cell_type": "code",
   "execution_count": null,
   "id": "65de4922",
   "metadata": {},
   "outputs": [],
   "source": [
    "fpr_modelo1, tpr_modelo1, _ = roc_curve(y_val, y_pred)\n",
    "fpr_modelo2, tpr_modelo2, _ = roc_curve(y_val, sub_y_pred)\n",
    "\n",
    "plt.figure(figsize=(5, 5))\n",
    "\n",
    "plt.plot(fpr_modelo1, tpr_modelo1, color='black', linestyle='solid', label='Modelo1')\n",
    "plt.plot(fpr_modelo2, tpr_modelo2, color='black', linestyle='dashed', label='Modelo2')\n",
    "plt.plot([0, 1], [0, 1], color='black', lw=0.7, linestyle='dashed', alpha=0.5)\n",
    "\n",
    "plt.xlim([-0.02, 1.02])\n",
    "plt.ylim([-0.02, 1.02])\n",
    "plt.xlabel('Tasa de Falso Positivo')\n",
    "plt.ylabel('Tasa de Verdadero Positivo')\n",
    "\n",
    "plt.title('Curva ROC')\n",
    "plt.legend(loc='lower right')\n",
    "\n",
    "plt.show()"
   ]
  },
  {
   "cell_type": "code",
   "execution_count": null,
   "id": "f5c8187f",
   "metadata": {},
   "outputs": [],
   "source": [
    "from sklearn.metrics import roc_auc_score"
   ]
  },
  {
   "cell_type": "code",
   "execution_count": null,
   "id": "fe66f5f0",
   "metadata": {},
   "outputs": [],
   "source": [
    "roc_auc_score(y_val, y_pred)"
   ]
  },
  {
   "cell_type": "code",
   "execution_count": null,
   "id": "d190eff1",
   "metadata": {},
   "outputs": [],
   "source": [
    "roc_auc_score(y_val, sub_y_pred)"
   ]
  },
  {
   "cell_type": "markdown",
   "id": "05f475ce",
   "metadata": {},
   "source": [
    "#### Interpretación de AUC\n",
    "\n",
    "La probabilidad de que un ejemplo positivo elegido al azar tenga una clasificación más alta que un ejemplo negativo elegido al azar. "
   ]
  },
  {
   "cell_type": "code",
   "execution_count": null,
   "id": "773654ea",
   "metadata": {},
   "outputs": [],
   "source": [
    "neg = y_pred[y_val == 0]\n",
    "pos = y_pred[y_val == 1]\n",
    "\n",
    "np.random.seed(1)\n",
    "neg_1 = np.random.randint(low=0, high=len(neg), size=10000)\n",
    "pos_1 = np.random.randint(low=0, high=len(pos), size=10000)\n",
    "(pos[pos_1] > neg[neg_1]).mean()\n"
   ]
  },
  {
   "cell_type": "markdown",
   "id": "d2fd626e",
   "metadata": {},
   "source": [
    "### Validación cruzada"
   ]
  },
  {
   "cell_type": "code",
   "execution_count": null,
   "id": "b28a985e",
   "metadata": {},
   "outputs": [],
   "source": [
    "from utilidades import *\n",
    "dibuja_validacion_cruzada()"
   ]
  },
  {
   "cell_type": "markdown",
   "id": "9caa451e",
   "metadata": {},
   "source": [
    "Entrenamiento del modelo."
   ]
  },
  {
   "cell_type": "code",
   "execution_count": null,
   "id": "dadecf68",
   "metadata": {},
   "outputs": [],
   "source": [
    "def entrenamiento(df, y):\n",
    "    cat = df[categoricas + numericas].to_dict(orient='records') \n",
    "    dv = DictVectorizer(sparse=False)\n",
    "    dv.fit(cat)\n",
    "\n",
    "    X = dv.transform(cat)\n",
    "\n",
    "    modelRL = LogisticRegression(solver='liblinear')\n",
    "    modelRL.fit(X, y)\n",
    "\n",
    "    return dv, modelRL"
   ]
  },
  {
   "cell_type": "markdown",
   "id": "a736d267",
   "metadata": {},
   "source": [
    "Aplicación del modelo a nuevos datos."
   ]
  },
  {
   "cell_type": "code",
   "execution_count": null,
   "id": "c8ed70de",
   "metadata": {},
   "outputs": [],
   "source": [
    "def predict(df, dv, modelo):\n",
    "    cat = df[categoricas+ numericas].to_dict(orient='records')\n",
    "    X = dv.transform(cat)\n",
    "\n",
    "    y_pred = modelo.predict_proba(X)[:, 1]\n",
    "\n",
    "    return y_pred"
   ]
  },
  {
   "cell_type": "code",
   "execution_count": null,
   "id": "5ab740ec",
   "metadata": {},
   "outputs": [],
   "source": [
    "from sklearn.model_selection import KFold"
   ]
  },
  {
   "cell_type": "markdown",
   "id": "d7ad1873",
   "metadata": {},
   "source": [
    "Ten en cuenta que al definir la división en la clase KFold, establecemos tres parámetros: \n",
    "\n",
    "* `n_splits = 10`: eso es K, que especifica el número de divisiones. \n",
    "* `shuffle = True`: pedimos que se mezcle los datos antes de dividirlos. \n",
    "* `random_state = 1`: debido a que hay aleatorización en el proceso (reorganización de datos), queremos que los resultados sean reproducibles, por lo que arreglamos la semilla para el generador de números aleatorios. \n"
   ]
  },
  {
   "cell_type": "code",
   "execution_count": null,
   "id": "f48c28d6",
   "metadata": {},
   "outputs": [],
   "source": [
    "kfold = KFold(n_splits=10, shuffle=True, random_state=1)"
   ]
  },
  {
   "cell_type": "code",
   "execution_count": null,
   "id": "318f3be5",
   "metadata": {},
   "outputs": [],
   "source": [
    "aucs = []\n",
    "\n",
    "for train_idx, val_idx in kfold.split(df_train_completo):\n",
    "    df_train = df_train_completo.iloc[train_idx]\n",
    "    y_train = df_train.churn.values\n",
    "\n",
    "    df_val = df_train_completo.iloc[val_idx]\n",
    "    y_val = df_val.churn.values\n",
    "\n",
    "    dv, modelo = entrenamiento(df_train, y_train)\n",
    "    y_pred = predict(df_val, dv, modelo)\n",
    "\n",
    "    rocauc = roc_auc_score(y_val, y_pred)\n",
    "    aucs.append(rocauc)"
   ]
  },
  {
   "cell_type": "code",
   "execution_count": null,
   "id": "989b48de",
   "metadata": {},
   "outputs": [],
   "source": [
    "np.array(aucs).round(3)"
   ]
  },
  {
   "cell_type": "markdown",
   "id": "455200c7",
   "metadata": {},
   "source": [
    "Podemos obtener algunas estadísticas de esta distribución, como la media y la desviación estándar: "
   ]
  },
  {
   "cell_type": "code",
   "execution_count": null,
   "id": "6316eb8f",
   "metadata": {},
   "outputs": [],
   "source": [
    "print('auc = %0.3f ± %0.3f' % (np.mean(aucs), np.std(aucs)))"
   ]
  },
  {
   "cell_type": "markdown",
   "id": "7472f97b",
   "metadata": {},
   "source": [
    "#### Busquemos los mejores parámetros\n",
    "\n",
    "Seeleccionamos el mejor parámetro C."
   ]
  },
  {
   "cell_type": "code",
   "execution_count": null,
   "id": "9ea009f6",
   "metadata": {},
   "outputs": [],
   "source": [
    "def entrenamiento(df, y, C=1.0):\n",
    "    cat = df[categoricas + numericas].to_dict(orient='records') \n",
    "    dv = DictVectorizer(sparse=False)\n",
    "    dv.fit(cat)\n",
    "\n",
    "    X = dv.transform(cat)\n",
    "\n",
    "    modelRL = LogisticRegression(solver='liblinear')\n",
    "    modelRL.fit(X, y)\n",
    "\n",
    "    return dv, modelRL"
   ]
  },
  {
   "cell_type": "markdown",
   "id": "09e3a417",
   "metadata": {},
   "source": [
    "Afinando el modelo: seleccionando el mejor parámetro C usando validación cruzada "
   ]
  },
  {
   "cell_type": "code",
   "execution_count": null,
   "id": "7f7460c9",
   "metadata": {},
   "outputs": [],
   "source": [
    "nfolds = 5\n",
    "kfold = KFold(n_splits=nfolds, shuffle=True, random_state=1)\n",
    "\n",
    "for C in [0.001, 0.01, 0.1, 0.5, 1, 10]:\n",
    "    aucs = []\n",
    "\n",
    "    for train_idx, val_idx in kfold.split(df_train_completo):\n",
    "        df_train = df_train_completo.iloc[train_idx]\n",
    "        df_val = df_train_completo.iloc[val_idx]\n",
    "\n",
    "        y_train = df_train.churn.values\n",
    "        y_val = df_val.churn.values\n",
    "\n",
    "        dv, modelo = entrenamiento(df_train, y_train, C=C)\n",
    "        y_pred = predict(df_val, dv, modelo)\n",
    "        \n",
    "        auc = roc_auc_score(y_val, y_pred)\n",
    "        aucs.append(auc)\n",
    "\n",
    "    print('C=%s, auc = %0.3f ± %0.3f' % (C, np.mean(aucs), np.std(aucs)))"
   ]
  },
  {
   "cell_type": "markdown",
   "id": "a3d3a73c",
   "metadata": {},
   "source": [
    "Ahora entrenamos el modelo en todos los conjuntos de datos de entrenamiento y validación y aplicarlo al conjunto de datos de prueba para verificar que realmente funciona bien.\n"
   ]
  },
  {
   "cell_type": "code",
   "execution_count": null,
   "id": "cb266383",
   "metadata": {},
   "outputs": [],
   "source": [
    "y_train = df_train_completo.churn.values\n",
    "y_test = df_test.churn.values\n",
    "\n",
    "dv, modelo = entrenamiento(df_train_completo, y_train, C=0.5)\n",
    "y_pred = predict(df_test, dv, modelo)\n",
    "\n",
    "auc = roc_auc_score(y_test, y_pred)\n",
    "print('auc = %.3f' % auc)"
   ]
  },
  {
   "cell_type": "markdown",
   "id": "177f56d9",
   "metadata": {},
   "source": [
    "### Ejercicio"
   ]
  },
  {
   "cell_type": "markdown",
   "id": "09d556c0",
   "metadata": {},
   "source": [
    "1. En este cuaderno, dibujamos el TPR y FPR para diferentes valores de un umbral, que ayudan a comprender qué significan estas métricas y también cómo cambia el rendimiento del modelo cuando elegimos un umbral diferente. Es útil hacer un ejercicio similar para la precisión y la exhaustividad, así que intenta repetir este experimento, esta vez usando  la precisión y la exhaustividad en lugar de TPR y FPR. \n"
   ]
  },
  {
   "cell_type": "code",
   "execution_count": null,
   "id": "49bb3623",
   "metadata": {},
   "outputs": [],
   "source": [
    "## Tu respuesta"
   ]
  },
  {
   "cell_type": "markdown",
   "id": "e4c07c20",
   "metadata": {},
   "source": [
    "2. Al dibujar la precisión y la exhaustividad para diferentes valores de umbral, podemos ver que existe un conflicto entre  la precisión y la exhaustividad: cuando una sube, la otra baja y viceversa. Esto se denomina `compensación de  la precisión y la exhaustividad`: no podemos seleccionar un umbral que haga que tanto la precisión como la exhaustividad sean buenas. Sin embargo, tenemos estrategias para seleccionar el umbral, aunque la precisión y exahustividad están en conflicto. Uno de ellos es dibujar curvas de precisión y exahustividad y ver dónde se cruzan, y usar este umbral para binarizar las predicciones. Intenta implementar esta idea.\n"
   ]
  },
  {
   "cell_type": "code",
   "execution_count": null,
   "id": "230b0cfb",
   "metadata": {},
   "outputs": [],
   "source": [
    "### Tu respuesta"
   ]
  },
  {
   "cell_type": "markdown",
   "id": "746c8c0c",
   "metadata": {},
   "source": [
    "3. Otra idea para evitar el equilibrio entre  la precisión y la exhaustividad es la puntuación F1, una puntuación que combina la  precisión y la exhaustividad en un solo valor. Luego, para seleccionar el mejor umbral, simplemente podemos elegir el que maximiza la puntuación F1. La fórmula para calcular la puntuación F1 es:  $F1 = 2\\cdot P\\cdot R / (P + R)$, donde $P$ es la precisión  y $R$ es la exahustividad. Implementa esta idea y selecciona el mejor umbral según la métrica F1.\n",
    " \n"
   ]
  },
  {
   "cell_type": "code",
   "execution_count": null,
   "id": "0b2a9dfb",
   "metadata": {},
   "outputs": [],
   "source": [
    "## Tu respuesta"
   ]
  },
  {
   "cell_type": "markdown",
   "id": "e27f6d3e",
   "metadata": {},
   "source": [
    "4. Cubrimos la validación cruzada de K-fold y la usamos para comprender cómo podría verse la distribución de las puntuaciones de AUC en un conjunto de datos de prueba. Cuando $K = 10$, obtenemos 10 observaciones, que en algunas circunstancias pueden no ser suficientes. Sin embargo, la idea se puede extender a pasos repetidos de validación cruzada de K-fold. El proceso es simple: repetimos el proceso de validación cruzada de K-fold varias veces, cada vez que mezclamos el conjunto de datos de manera diferente seleccionando una semilla aleatoria diferente en cada iteración. Implementa una validación cruzada repetida y realice una validación cruzada de 10 -fold 10 veces para ver cómo se ve la distribución de las puntuaciones. "
   ]
  },
  {
   "cell_type": "code",
   "execution_count": null,
   "id": "b1e9a6dc",
   "metadata": {},
   "outputs": [],
   "source": [
    "## Tu respuesta"
   ]
  },
  {
   "cell_type": "markdown",
   "id": "002b7ad2",
   "metadata": {},
   "source": [
    "5. Utiliza el proyecto de puntuación de clientes potenciales y el proyecto de predicción predeterminada. Prueba lo siguiente: \n",
    "\n",
    " - Calcula todas las métricas que cubrimos en este cuaderno: la tabla de confusión, exactitud y recuperación, y AUC. También trata de calcular los puntajes de los ejercicios: el puntaje F1 así como el AU PR (el área bajo la curva de recuperación de exactitud). \n",
    " - Utiliza la validación cruzada K-fold para seleccionar el mejor parámetro C para el modelo. \n"
   ]
  },
  {
   "cell_type": "code",
   "execution_count": null,
   "id": "e604bcbb",
   "metadata": {},
   "outputs": [],
   "source": [
    "## Tu respuesta"
   ]
  },
  {
   "cell_type": "code",
   "execution_count": null,
   "id": "c825ed4d",
   "metadata": {},
   "outputs": [],
   "source": []
  }
 ],
 "metadata": {
  "kernelspec": {
   "display_name": "Python 3",
   "language": "python",
   "name": "python3"
  },
  "language_info": {
   "codemirror_mode": {
    "name": "ipython",
    "version": 3
   },
   "file_extension": ".py",
   "mimetype": "text/x-python",
   "name": "python",
   "nbconvert_exporter": "python",
   "pygments_lexer": "ipython3",
   "version": "3.7.10"
  }
 },
 "nbformat": 4,
 "nbformat_minor": 5
}

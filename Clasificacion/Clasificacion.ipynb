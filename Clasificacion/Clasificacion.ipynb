{
 "cells": [
  {
   "cell_type": "markdown",
   "id": "944b2d88",
   "metadata": {},
   "source": [
    "### Aprendizaje por clasificación"
   ]
  },
  {
   "cell_type": "code",
   "execution_count": null,
   "id": "92b1a387",
   "metadata": {},
   "outputs": [],
   "source": [
    "import pandas as pd\n",
    "import numpy as np\n",
    "\n",
    "import seaborn as sns\n",
    "from matplotlib import pyplot as plt\n",
    "%matplotlib inline\n"
   ]
  },
  {
   "cell_type": "code",
   "execution_count": null,
   "id": "7bd194ff",
   "metadata": {},
   "outputs": [],
   "source": [
    "df = pd.read_csv('data.csv')"
   ]
  },
  {
   "cell_type": "code",
   "execution_count": null,
   "id": "aa7012a9",
   "metadata": {},
   "outputs": [],
   "source": [
    "len(df)"
   ]
  },
  {
   "cell_type": "markdown",
   "id": "e97460f8",
   "metadata": {},
   "source": [
    "### Preparación inicial de los datos"
   ]
  },
  {
   "cell_type": "code",
   "execution_count": null,
   "id": "965e3c5d",
   "metadata": {},
   "outputs": [],
   "source": [
    "df.head()"
   ]
  },
  {
   "cell_type": "code",
   "execution_count": null,
   "id": "03fa9690",
   "metadata": {},
   "outputs": [],
   "source": [
    "df.head().T"
   ]
  },
  {
   "cell_type": "code",
   "execution_count": null,
   "id": "8e6cefdb",
   "metadata": {},
   "outputs": [],
   "source": [
    "df.dtypes"
   ]
  },
  {
   "cell_type": "code",
   "execution_count": null,
   "id": "29b8687b",
   "metadata": {},
   "outputs": [],
   "source": [
    "df['TotalCharges'] = pd.to_numeric(df['TotalCharges'], errors='coerce')\n",
    "df['TotalCharges'] = df['TotalCharges'].fillna(0)"
   ]
  },
  {
   "cell_type": "code",
   "execution_count": null,
   "id": "aa8a3a4e",
   "metadata": {},
   "outputs": [],
   "source": [
    "df.columns = df.columns.str.lower().str.replace(' ', '_')\n",
    "\n",
    "cadena_columnas = list(df.dtypes[df.dtypes == 'object'].index)\n",
    "\n",
    "for col in cadena_columnas:\n",
    "    df[col] = df[col].str.lower().str.replace(' ', '_')"
   ]
  },
  {
   "cell_type": "code",
   "execution_count": null,
   "id": "f19cf99e",
   "metadata": {},
   "outputs": [],
   "source": [
    "df.churn = (df.churn == 'yes').astype(int)"
   ]
  },
  {
   "cell_type": "code",
   "execution_count": null,
   "id": "0642e295",
   "metadata": {},
   "outputs": [],
   "source": [
    "df.head().T"
   ]
  },
  {
   "cell_type": "markdown",
   "id": "fb52996a",
   "metadata": {},
   "source": [
    "### Uso de librerías scikit-learn"
   ]
  },
  {
   "cell_type": "code",
   "execution_count": null,
   "id": "1ad075cb",
   "metadata": {},
   "outputs": [],
   "source": [
    "from sklearn.model_selection import train_test_split"
   ]
  },
  {
   "cell_type": "code",
   "execution_count": null,
   "id": "e555aeca",
   "metadata": {},
   "outputs": [],
   "source": [
    "df_train_completo, df_test = train_test_split(df, test_size=0.2, random_state=1)"
   ]
  },
  {
   "cell_type": "code",
   "execution_count": null,
   "id": "b952cf53",
   "metadata": {},
   "outputs": [],
   "source": [
    "df_train, df_val = train_test_split(df_train_completo, test_size=0.33, random_state=11)"
   ]
  },
  {
   "cell_type": "code",
   "execution_count": null,
   "id": "0fe73e8a",
   "metadata": {},
   "outputs": [],
   "source": [
    "y_train = df_train.churn.values\n",
    "y_val = df_val.churn.values"
   ]
  },
  {
   "cell_type": "code",
   "execution_count": null,
   "id": "38356660",
   "metadata": {},
   "outputs": [],
   "source": [
    "del df_train['churn']\n",
    "del df_val['churn']"
   ]
  },
  {
   "cell_type": "markdown",
   "id": "df70152e",
   "metadata": {},
   "source": [
    "### EDA"
   ]
  },
  {
   "cell_type": "code",
   "execution_count": null,
   "id": "39e77a79",
   "metadata": {},
   "outputs": [],
   "source": [
    "df_train_completo.isnull().sum()"
   ]
  },
  {
   "cell_type": "markdown",
   "id": "433baebc",
   "metadata": {},
   "source": [
    " Verificamos la distribución de valores en la variable objetivo."
   ]
  },
  {
   "cell_type": "code",
   "execution_count": null,
   "id": "992389f4",
   "metadata": {},
   "outputs": [],
   "source": [
    "df_train_completo.churn.value_counts()"
   ]
  },
  {
   "cell_type": "markdown",
   "id": "6fc06d30",
   "metadata": {},
   "source": [
    "Calcular la tasa de abandono de clientes: el método `mean()`. "
   ]
  },
  {
   "cell_type": "code",
   "execution_count": null,
   "id": "166e74fa",
   "metadata": {},
   "outputs": [],
   "source": [
    "media_global = df_train_completo.churn.mean()\n",
    "round(media_global, 3)"
   ]
  },
  {
   "cell_type": "markdown",
   "id": "7f2305db",
   "metadata": {},
   "source": [
    "Las variables categóricas como las numéricas en el conjunto de datos son importantes, pero también son diferentes y necesitan un tratamiento diferente."
   ]
  },
  {
   "cell_type": "code",
   "execution_count": null,
   "id": "c9b41a77",
   "metadata": {},
   "outputs": [],
   "source": [
    "categoricas = ['gender', 'seniorcitizen', 'partner', 'dependents',\n",
    "               'phoneservice', 'multiplelines', 'internetservice',\n",
    "               'onlinesecurity', 'onlinebackup', 'deviceprotection',\n",
    "               'techsupport', 'streamingtv', 'streamingmovies',\n",
    "               'contract', 'paperlessbilling', 'paymentmethod']\n",
    "numericas = ['tenure', 'monthlycharges', 'totalcharges']\n"
   ]
  },
  {
   "cell_type": "markdown",
   "id": "4f66ce2b",
   "metadata": {},
   "source": [
    "Imprimamos cuántos valores únicos tiene cada variable.\n"
   ]
  },
  {
   "cell_type": "code",
   "execution_count": null,
   "id": "0ae676d3",
   "metadata": {},
   "outputs": [],
   "source": [
    "df_train_completo[categoricas].nunique()"
   ]
  },
  {
   "cell_type": "markdown",
   "id": "7b1678f2",
   "metadata": {},
   "source": [
    "### Importancia de características\n",
    "\n",
    "#### Tasa de abandono\n",
    "\n",
    "Comprobemos primero la variable `gender`.  Esta variable `gender` puede tomar dos valores `female` y  `male`. Hay dos grupos de clientes: los que tienen `gender == 'female'` y los que tienen `gender == 'male'`."
   ]
  },
  {
   "cell_type": "code",
   "execution_count": null,
   "id": "b086f741",
   "metadata": {},
   "outputs": [],
   "source": [
    "media_female = df_train_completo[df_train_completo.gender == 'female'].churn.mean()\n",
    "print('gender == female:', round(media_female, 3))\n",
    "\n",
    "media_male = df_train_completo[df_train_completo.gender == 'male'].churn.mean()\n",
    "print('gender == male:  ', round(media_male, 3))"
   ]
  },
  {
   "cell_type": "code",
   "execution_count": null,
   "id": "fc8bc918",
   "metadata": {},
   "outputs": [],
   "source": [
    "media_female / media_global"
   ]
  },
  {
   "cell_type": "code",
   "execution_count": null,
   "id": "936980dd",
   "metadata": {},
   "outputs": [],
   "source": [
    "media_male/media_global"
   ]
  },
  {
   "cell_type": "markdown",
   "id": "a89dc67e",
   "metadata": {},
   "source": [
    "Ahora echemos un vistazo a otra variable: `partner`. Toma valores de `yes`  y `no`, por lo que hay dos grupos de clientes: aquellos para los que `partner == 'yes'` y aquellos para los que `partner == 'no'`. \n"
   ]
  },
  {
   "cell_type": "code",
   "execution_count": null,
   "id": "3bf3a431",
   "metadata": {},
   "outputs": [],
   "source": [
    "si_partner = df_train_completo[df_train_completo.partner == 'yes'].churn.mean()\n",
    "print('partner == yes:', round(si_partner, 3))\n",
    "\n",
    "no_partner = df_train_completo[df_train_completo.partner == 'no'].churn.mean()\n",
    "print('partner == no :', round(no_partner, 3))"
   ]
  },
  {
   "cell_type": "code",
   "execution_count": null,
   "id": "9939e903",
   "metadata": {},
   "outputs": [],
   "source": [
    "si_partner /media_global"
   ]
  },
  {
   "cell_type": "code",
   "execution_count": null,
   "id": "91ea8b66",
   "metadata": {},
   "outputs": [],
   "source": [
    "no_partner /media_global"
   ]
  },
  {
   "cell_type": "markdown",
   "id": "9feacc42",
   "metadata": {},
   "source": [
    "#### Tasa de riesgo\n",
    "\n",
    "Calculemos los riesgos por `gender` en el conjunto de datos. \n",
    "\n",
    "\n"
   ]
  },
  {
   "cell_type": "code",
   "execution_count": null,
   "id": "99053c74",
   "metadata": {},
   "outputs": [],
   "source": [
    "df_grupo = df_train_completo.groupby(by='gender').churn.agg(['mean'])\n",
    "df_grupo['diff'] = df_grupo['mean'] - media_global\n",
    "df_grupo['risk'] = df_grupo['mean'] / media_global\n",
    "df_grupo"
   ]
  },
  {
   "cell_type": "markdown",
   "id": "f0ad88bf",
   "metadata": {},
   "source": [
    "Ahora hagamos eso para todas las variables categóricas. Podemos iterar a través de ellos y aplicar el mismo código para cada uno: "
   ]
  },
  {
   "cell_type": "code",
   "execution_count": null,
   "id": "4a3f8af0",
   "metadata": {},
   "outputs": [],
   "source": [
    "from IPython.display import display"
   ]
  },
  {
   "cell_type": "code",
   "execution_count": null,
   "id": "9e7dcb9b",
   "metadata": {},
   "outputs": [],
   "source": [
    "media_global = df_train_completo.churn.mean()\n",
    "media_global"
   ]
  },
  {
   "cell_type": "code",
   "execution_count": null,
   "id": "c1502af7",
   "metadata": {},
   "outputs": [],
   "source": [
    "for col in categoricas:\n",
    "    df_grupo = df_train_completo.groupby(by=col).churn.agg(['mean'])\n",
    "    df_grupo['diff'] = df_grupo['mean'] - media_global\n",
    "    df_grupo['risk'] = df_grupo['mean'] / media_global\n",
    "    #display(df_grupo)"
   ]
  },
  {
   "cell_type": "markdown",
   "id": "78e8deda",
   "metadata": {},
   "source": [
    "### Información mutua\n",
    "\n",
    "Para las variables categóricas indica cuánta información aprendemos sobre una variable si aprendemos el valor de la otra variable."
   ]
  },
  {
   "cell_type": "code",
   "execution_count": null,
   "id": "ac806bab",
   "metadata": {},
   "outputs": [],
   "source": [
    "from sklearn.metrics import mutual_info_score"
   ]
  },
  {
   "cell_type": "code",
   "execution_count": null,
   "id": "f34b2b36",
   "metadata": {},
   "outputs": [],
   "source": [
    "def calcula_mi(series):\n",
    "    return mutual_info_score(series, df_train_completo.churn)\n",
    "\n",
    "df_mi = df_train_completo[categoricas].apply(calcula_mi)\n",
    "df_mi = df_mi.sort_values(ascending=False).to_frame(name='MI')\n",
    "\n",
    "\n",
    "display(df_mi.head())\n",
    "display(df_mi.tail())\n"
   ]
  },
  {
   "cell_type": "markdown",
   "id": "d459fc42",
   "metadata": {},
   "source": [
    "#### Coeficiente de correlación\n",
    "\n",
    "Calculemos el coeficiente de correlación en Pandas."
   ]
  },
  {
   "cell_type": "code",
   "execution_count": null,
   "id": "24354354",
   "metadata": {},
   "outputs": [],
   "source": [
    "df_train_completo[numericas].corrwith(df_train_completo.churn).to_frame('correlation')"
   ]
  },
  {
   "cell_type": "code",
   "execution_count": null,
   "id": "0405fe17",
   "metadata": {},
   "outputs": [],
   "source": [
    "#df_train_completo.groupby(by='churn')[numericas].mean()"
   ]
  },
  {
   "cell_type": "markdown",
   "id": "ef6e10f3",
   "metadata": {},
   "source": [
    "### Ingeniería de características\n",
    "\n",
    "#### Codificación one-hot para variables categóricas\n"
   ]
  },
  {
   "cell_type": "code",
   "execution_count": null,
   "id": "9b633aa8",
   "metadata": {},
   "outputs": [],
   "source": [
    "from sklearn.feature_extraction import DictVectorizer"
   ]
  },
  {
   "cell_type": "code",
   "execution_count": null,
   "id": "36ab1f47",
   "metadata": {},
   "outputs": [],
   "source": [
    "train_dict = df_train[categoricas + numericas].to_dict(orient='records')"
   ]
  },
  {
   "cell_type": "code",
   "execution_count": null,
   "id": "119ecaf7",
   "metadata": {},
   "outputs": [],
   "source": [
    "train_dict[0]"
   ]
  },
  {
   "cell_type": "markdown",
   "id": "16f27fd4",
   "metadata": {},
   "source": [
    "Ahora podemos usar `DictVectorizer`. Lo creamos y luego lo ajustamos a la lista de diccionarios que creamos previamente: \n"
   ]
  },
  {
   "cell_type": "code",
   "execution_count": null,
   "id": "20855e96",
   "metadata": {},
   "outputs": [],
   "source": [
    "dv = DictVectorizer(sparse=False)\n",
    "dv.fit(train_dict)"
   ]
  },
  {
   "cell_type": "markdown",
   "id": "d55198f1",
   "metadata": {},
   "source": [
    "Después de ajustar el vectorizador, podemos usarlo para convertir los diccionarios en una matriz usando el método `transform`: "
   ]
  },
  {
   "cell_type": "code",
   "execution_count": null,
   "id": "26fd6b78",
   "metadata": {},
   "outputs": [],
   "source": [
    "X_train = dv.transform(train_dict)"
   ]
  },
  {
   "cell_type": "code",
   "execution_count": null,
   "id": "827d6fc0",
   "metadata": {},
   "outputs": [],
   "source": [
    "X_train.shape"
   ]
  },
  {
   "cell_type": "code",
   "execution_count": null,
   "id": "93e67b8b",
   "metadata": {},
   "outputs": [],
   "source": [
    "## X_train[0]"
   ]
  },
  {
   "cell_type": "markdown",
   "id": "1db4122c",
   "metadata": {},
   "source": [
    "Podemos aprender los nombres de todas estas columnas usando el método `get_feature_names`: \n"
   ]
  },
  {
   "cell_type": "code",
   "execution_count": null,
   "id": "8a37904e",
   "metadata": {},
   "outputs": [],
   "source": [
    "import warnings\n",
    "warnings.filterwarnings(\"ignore\")\n",
    "# # get_feature_names_out()\n",
    "dv.get_feature_names_out() "
   ]
  },
  {
   "cell_type": "markdown",
   "id": "a191efd8",
   "metadata": {},
   "source": [
    "### Aprendizaje automático para clasificación \n",
    "\n",
    "#### Regresión logística\n"
   ]
  },
  {
   "cell_type": "code",
   "execution_count": null,
   "id": "95feecf6",
   "metadata": {},
   "outputs": [],
   "source": [
    "from sklearn.linear_model import LogisticRegression"
   ]
  },
  {
   "cell_type": "code",
   "execution_count": null,
   "id": "6412945d",
   "metadata": {},
   "outputs": [],
   "source": [
    "modeloRL = LogisticRegression(solver='liblinear', random_state=1)\n",
    "modeloRL.fit(X_train, y_train)"
   ]
  },
  {
   "cell_type": "markdown",
   "id": "00041843",
   "metadata": {},
   "source": [
    "Veamos qué tan bien se comporta el modelo.Para hacer eso, necesitamos aplicar el esquema de codificación one-hot a todas las variables categóricas."
   ]
  },
  {
   "cell_type": "code",
   "execution_count": null,
   "id": "7669d935",
   "metadata": {},
   "outputs": [],
   "source": [
    "val_dict = df_val[categoricas + numericas].to_dict(orient='records')\n",
    "X_val = dv.transform(val_dict)"
   ]
  },
  {
   "cell_type": "markdown",
   "id": "69030aee",
   "metadata": {},
   "source": [
    "Ahora estamos listos para poner esta matriz en el modelo. Para obtener las probabilidades, usamos el método `predict_proba` del modelo: \n"
   ]
  },
  {
   "cell_type": "code",
   "execution_count": null,
   "id": "227ded13",
   "metadata": {},
   "outputs": [],
   "source": [
    "modeloRL.predict_proba(X_val)"
   ]
  },
  {
   "cell_type": "markdown",
   "id": "d8c1be8c",
   "metadata": {},
   "source": [
    "**Ejercicio**\n",
    "\n",
    "* Escribe solo la segunda columna de la predicción.\n",
    "* Selecciona un umbral de 0.5 para realizar  predicciones binarias y calcula la exactitud del modelo."
   ]
  },
  {
   "cell_type": "code",
   "execution_count": null,
   "id": "00ae8842",
   "metadata": {},
   "outputs": [],
   "source": [
    "## Tus respuestas"
   ]
  },
  {
   "cell_type": "markdown",
   "id": "1b8527da",
   "metadata": {},
   "source": [
    "###  Interpretación del modelo \n",
    "\n",
    "Calculamos el sesgo del modelo."
   ]
  },
  {
   "cell_type": "code",
   "execution_count": null,
   "id": "d08d14a6",
   "metadata": {},
   "outputs": [],
   "source": [
    "modeloRL.intercept_[0]"
   ]
  },
  {
   "cell_type": "markdown",
   "id": "b9c861fd",
   "metadata": {},
   "source": [
    "Para ver qué característica está asociada con cada peso, usemos el método `get_feature_names` de `DictVectorizer`. Podemos comprimir los nombres de las características junto con los coeficientes antes de mirarlos: "
   ]
  },
  {
   "cell_type": "code",
   "execution_count": null,
   "id": "d7cbdc32",
   "metadata": {},
   "outputs": [],
   "source": [
    "dict(zip(dv.get_feature_names_out(), modeloRL.coef_[0].round(3))) # https://book.pythontips.com/en/latest/zip.html"
   ]
  },
  {
   "cell_type": "markdown",
   "id": "973bd93d",
   "metadata": {},
   "source": [
    "Para comprender cómo funciona el modelo, entrenemos un modelo más simple y más pequeño que use solo tres variables: `contract` , `tenure` y `totalcharges`."
   ]
  },
  {
   "cell_type": "code",
   "execution_count": null,
   "id": "e915bbde",
   "metadata": {},
   "outputs": [],
   "source": [
    "subconjunto = ['contract', 'tenure', 'totalcharges']\n",
    "train_dict_sub = df_train[subconjunto].to_dict(orient='records')\n",
    "dv_sub = DictVectorizer(sparse=False)\n",
    "dv_sub.fit(train_dict_sub)\n",
    "\n",
    "X_sub_train = dv_sub.transform(train_dict_sub)\n",
    "dv_sub.get_feature_names_out()"
   ]
  },
  {
   "cell_type": "code",
   "execution_count": null,
   "id": "ca85cdd0",
   "metadata": {},
   "outputs": [],
   "source": [
    "submodeloRL = LogisticRegression(solver='liblinear', random_state=1)\n",
    "submodeloRL.fit(X_sub_train, y_train)"
   ]
  },
  {
   "cell_type": "code",
   "execution_count": null,
   "id": "9d077a1e",
   "metadata": {},
   "outputs": [],
   "source": [
    "submodeloRL.intercept_[0]"
   ]
  },
  {
   "cell_type": "code",
   "execution_count": null,
   "id": "26c1bb4a",
   "metadata": {},
   "outputs": [],
   "source": [
    "dict(zip(dv_sub.get_feature_names_out(), submodeloRL.coef_[0].round(3)))"
   ]
  },
  {
   "cell_type": "code",
   "execution_count": null,
   "id": "a725a3d0",
   "metadata": {},
   "outputs": [],
   "source": [
    "sub_val_dict = df_val[subconjunto].to_dict(orient='records')\n",
    "X_sub_val = dv_sub.transform(sub_val_dict)"
   ]
  },
  {
   "cell_type": "code",
   "execution_count": null,
   "id": "f8f85f6f",
   "metadata": {},
   "outputs": [],
   "source": [
    "sub_y_pred = submodeloRL.predict_proba(X_sub_val)[:, 1]"
   ]
  },
  {
   "cell_type": "markdown",
   "id": "00da0306",
   "metadata": {},
   "source": [
    "### Usando el modelo\n",
    "\n",
    "Ahora podemos aplicar el modelo a los clientes para calificarlos."
   ]
  },
  {
   "cell_type": "code",
   "execution_count": null,
   "id": "59953ed8",
   "metadata": {},
   "outputs": [],
   "source": [
    "cliente = {\n",
    "    'customerid': '8879-zkjof',\n",
    "    'gender': 'female',\n",
    "    'seniorcitizen': 0,\n",
    "    'partner': 'no',\n",
    "    'dependents': 'no',\n",
    "    'tenure': 41,\n",
    "    'phoneservice': 'yes',\n",
    "    'multiplelines': 'no',\n",
    "    'internetservice': 'dsl',\n",
    "    'onlinesecurity': 'yes',\n",
    "    'onlinebackup': 'no',\n",
    "    'deviceprotection': 'yes',\n",
    "    'techsupport': 'yes',\n",
    "    'streamingtv': 'yes',\n",
    "    'streamingmovies': 'yes',\n",
    "    'contract': 'one_year',\n",
    "    'paperlessbilling': 'yes',\n",
    "    'paymentmethod': 'bank_transfer_(automatic)',\n",
    "    'monthlycharges': 79.85,\n",
    "    'totalcharges': 3320.75,\n",
    "}"
   ]
  },
  {
   "cell_type": "code",
   "execution_count": null,
   "id": "ae28de97",
   "metadata": {},
   "outputs": [],
   "source": [
    "X_test = dv.transform([cliente])\n",
    "modeloRL.predict_proba(X_test)[0,1]"
   ]
  },
  {
   "cell_type": "markdown",
   "id": "1cd9d007",
   "metadata": {},
   "source": [
    "**Ejercicio** Realiza el mismo procedimiento y explica tu respuesta con el siguiente perfil de cliente."
   ]
  },
  {
   "cell_type": "code",
   "execution_count": null,
   "id": "87b42d50",
   "metadata": {},
   "outputs": [],
   "source": [
    "cliente = {\n",
    "    'gender': 'female',\n",
    "    'seniorcitizen': 1,\n",
    "    'partner': 'no',\n",
    "    'dependents': 'no',\n",
    "    'phoneservice': 'yes',\n",
    "    'multiplelines': 'yes',\n",
    "    'internetservice': 'fiber_optic',\n",
    "    'onlinesecurity': 'no',\n",
    "    'onlinebackup': 'no',\n",
    "    'deviceprotection': 'no',\n",
    "    'techsupport': 'no',\n",
    "    'streamingtv': 'yes',\n",
    "    'streamingmovies': 'no',\n",
    "    'contract': 'month-to-month',\n",
    "    'paperlessbilling': 'yes',\n",
    "    'paymentmethod': 'electronic_check',\n",
    "    'tenure': 1,\n",
    "    'monthlycharges': 85.7,\n",
    "    'totalcharges': 85.7\n",
    "}"
   ]
  },
  {
   "cell_type": "code",
   "execution_count": null,
   "id": "3ffc5e18",
   "metadata": {},
   "outputs": [],
   "source": [
    "# Tu respuesta"
   ]
  },
  {
   "cell_type": "markdown",
   "id": "561a364c",
   "metadata": {},
   "source": [
    "### Ejercicios\n",
    "\n",
    "1. Puedes probar un par de cosas para aprender mejor el tema: En el cuaderno anterior, implementamos muchas cosas nosotros mismos, incluida la regresión lineal y la división de conjuntos de datos. En este cuaderno aprendimos a usar Scikit-learn para eso. Intenta rehacer el proyecto del cuaderno  anterior usando Scikit-learn. Para usar la regresión lineal, necesita `LinearRegression` del paquete `sklearn.linear_model`. Para usar la regresión regularizada, debe importar `Ridge` desde el mismo paquete `sklearn.linear_model`. "
   ]
  },
  {
   "cell_type": "code",
   "execution_count": null,
   "id": "4f720e1c",
   "metadata": {},
   "outputs": [],
   "source": [
    "## Tu respuesta"
   ]
  },
  {
   "cell_type": "markdown",
   "id": "bd25bc2e",
   "metadata": {},
   "source": [
    "2. Analizamos las métricas de importancia de las características para obtener información sobre el conjunto de datos, pero en realidad no usamos esta información para otros fines. Una forma de usar esta información podría ser eliminar las características que no son útiles del conjunto de datos para hacer que el modelo sea más simple, más rápido y potencialmente mejor. Intenta excluir las dos características menos útiles (`gender` y `phoneservices`) de la matriz de datos de entrenamiento y observa qué sucede con la exactitud de la validación. ¿Qué pasa si eliminamos la característica más útil (`contract`)?.\n"
   ]
  },
  {
   "cell_type": "code",
   "execution_count": null,
   "id": "489351bc",
   "metadata": {},
   "outputs": [],
   "source": [
    "## Tu respuesta"
   ]
  },
  {
   "cell_type": "markdown",
   "id": "14e355a6",
   "metadata": {},
   "source": [
    "3. Los modelos de clasificación se utilizan a menudo con fines de marketing y uno de los problemas que resuelve es la puntuación de clientes potenciales (`lead scoring`). Un cliente potencial (`lead`) es un cliente potencial que puede convertirse (convertirse en un cliente real) o no. En este caso, la conversión es el objetivo que queremos predecir. Puedes tomar un conjunto de datos de https://www.kaggle.com/ashydv/leads-dataset y crear un modelo para eso. Puedes notar que el problema de puntuación de clientes potenciales es similar a la predicción de abandono, pero en un caso, queremos que un nuevo cliente firme un contrato con nosotros y en otro caso, queremos que un cliente no cancele el contrato. "
   ]
  },
  {
   "cell_type": "code",
   "execution_count": null,
   "id": "2aedc40c",
   "metadata": {},
   "outputs": [],
   "source": [
    "## Tu respuesta"
   ]
  },
  {
   "cell_type": "code",
   "execution_count": null,
   "id": "9a0b0616",
   "metadata": {},
   "outputs": [],
   "source": []
  }
 ],
 "metadata": {
  "kernelspec": {
   "display_name": "Python 3",
   "language": "python",
   "name": "python3"
  },
  "language_info": {
   "codemirror_mode": {
    "name": "ipython",
    "version": 3
   },
   "file_extension": ".py",
   "mimetype": "text/x-python",
   "name": "python",
   "nbconvert_exporter": "python",
   "pygments_lexer": "ipython3",
   "version": "3.7.10"
  }
 },
 "nbformat": 4,
 "nbformat_minor": 5
}

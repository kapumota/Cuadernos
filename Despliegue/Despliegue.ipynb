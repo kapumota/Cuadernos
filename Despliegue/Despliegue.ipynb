{
 "cells": [
  {
   "cell_type": "markdown",
   "id": "f1f19a2a",
   "metadata": {},
   "source": [
    "### Despliegue de modelos de aprendizaje automático\n",
    "\n",
    "Reutilizamos el cuaderno anterior para experimentos de despliegue."
   ]
  },
  {
   "cell_type": "code",
   "execution_count": null,
   "id": "9b0e7374",
   "metadata": {},
   "outputs": [],
   "source": [
    "import pandas as pd\n",
    "import numpy as np\n",
    "\n",
    "import seaborn as sns\n",
    "from matplotlib import pyplot as plt\n",
    "%matplotlib inline"
   ]
  },
  {
   "cell_type": "code",
   "execution_count": null,
   "id": "569c0b20",
   "metadata": {},
   "outputs": [],
   "source": [
    "from sklearn.model_selection import train_test_split\n",
    "from sklearn.feature_extraction import DictVectorizer\n",
    "from sklearn.linear_model import LogisticRegression\n",
    "from sklearn.metrics import roc_auc_score"
   ]
  },
  {
   "cell_type": "code",
   "execution_count": null,
   "id": "a4fd0aca",
   "metadata": {},
   "outputs": [],
   "source": [
    "df = pd.read_csv('data.csv')\n",
    "\n",
    "df['TotalCharges'] = pd.to_numeric(df['TotalCharges'], errors='coerce')\n",
    "df['TotalCharges'] = df['TotalCharges'].fillna(0)\n",
    "\n",
    "df.columns = df.columns.str.lower().str.replace(' ', '_')\n",
    "\n",
    "cadena_columnas = list(df.dtypes[df.dtypes == 'object'].index)\n",
    "\n",
    "for col in cadena_columnas:\n",
    "    df[col] = df[col].str.lower().str.replace(' ', '_')\n",
    "\n",
    "df.churn = (df.churn == 'yes').astype(int)"
   ]
  },
  {
   "cell_type": "markdown",
   "id": "d876dbcd",
   "metadata": {},
   "source": [
    "Modelo completo anterior"
   ]
  },
  {
   "cell_type": "code",
   "execution_count": null,
   "id": "c45f8adc",
   "metadata": {},
   "outputs": [],
   "source": [
    "df_train_completo, df_test = train_test_split(df, test_size=0.2, random_state=1)\n",
    "\n",
    "df_train_completo = df_train_completo.reset_index(drop=True)\n",
    "df_test = df_test.reset_index(drop=True)\n",
    "\n",
    "\n",
    "df_train, df_val = train_test_split(df_train_completo, test_size=0.33, random_state=11)\n",
    "\n",
    "df_train = df_train.reset_index(drop=True)\n",
    "df_val = df_val.reset_index(drop=True)\n",
    "\n",
    "y_train = df_train.churn.values\n",
    "y_val = df_val.churn.values\n",
    "\n",
    "del df_train['churn']\n",
    "del df_val['churn']"
   ]
  },
  {
   "cell_type": "code",
   "execution_count": null,
   "id": "83871fdb",
   "metadata": {},
   "outputs": [],
   "source": [
    "categoricas = ['gender', 'seniorcitizen', 'partner', 'dependents',\n",
    "               'phoneservice', 'multiplelines', 'internetservice',\n",
    "               'onlinesecurity', 'onlinebackup', 'deviceprotection',\n",
    "               'techsupport', 'streamingtv', 'streamingmovies',\n",
    "               'contract', 'paperlessbilling', 'paymentmethod']\n",
    "numericas = ['tenure', 'monthlycharges', 'totalcharges']\n"
   ]
  },
  {
   "cell_type": "code",
   "execution_count": null,
   "id": "17d07e39",
   "metadata": {},
   "outputs": [],
   "source": [
    "import warnings\n",
    "warnings.filterwarnings(\"ignore\")"
   ]
  },
  {
   "cell_type": "markdown",
   "id": "7472f97b",
   "metadata": {},
   "source": [
    "#### Mejores parámetros\n"
   ]
  },
  {
   "cell_type": "code",
   "execution_count": null,
   "id": "9ea009f6",
   "metadata": {},
   "outputs": [],
   "source": [
    "def entrenamiento(df, y, C=1.0):\n",
    "    cat = df[categoricas + numericas].to_dict(orient='records') \n",
    "    dv = DictVectorizer(sparse=False)\n",
    "    dv.fit(cat)\n",
    "\n",
    "    X = dv.transform(cat)\n",
    "\n",
    "    modelRL = LogisticRegression(solver='liblinear')\n",
    "    modelRL.fit(X, y)\n",
    "\n",
    "    return dv, modelRL\n",
    "\n",
    "def predict(df, dv, modelo):\n",
    "    cat = df[categoricas+ numericas].to_dict(orient='records')\n",
    "    X = dv.transform(cat)\n",
    "\n",
    "    y_pred = modelo.predict_proba(X)[:, 1]\n",
    "\n",
    "    return y_pred"
   ]
  },
  {
   "cell_type": "markdown",
   "id": "a3d3a73c",
   "metadata": {},
   "source": [
    "Ahora entrenamos el modelo en todos los conjuntos de datos de entrenamiento y validación y aplicarlo al conjunto de datos de prueba para verificar que realmente funciona bien.\n"
   ]
  },
  {
   "cell_type": "code",
   "execution_count": null,
   "id": "cb266383",
   "metadata": {},
   "outputs": [],
   "source": [
    "y_train = df_train_completo.churn.values\n",
    "y_test = df_test.churn.values\n",
    "\n",
    "dv, modelo = entrenamiento(df_train_completo, y_train, C=0.5)\n",
    "y_pred = predict(df_test, dv, modelo)\n",
    "\n",
    "auc = roc_auc_score(y_test, y_pred)\n",
    "print('auc = %.3f' % auc)"
   ]
  },
  {
   "cell_type": "code",
   "execution_count": null,
   "id": "c825ed4d",
   "metadata": {},
   "outputs": [],
   "source": [
    "cliente = {\n",
    "    'customerid': '8879-zkjof',\n",
    "    'gender': 'female',\n",
    "    'seniorcitizen': 0,\n",
    "    'partner': 'no',\n",
    "    'dependents': 'no',\n",
    "    'tenure': 41,\n",
    "    'phoneservice': 'yes',\n",
    "    'multiplelines': 'no',\n",
    "    'internetservice': 'dsl',\n",
    "    'onlinesecurity': 'yes',\n",
    "    'onlinebackup': 'no',\n",
    "    'deviceprotection': 'yes',\n",
    "    'techsupport': 'yes',\n",
    "    'streamingtv': 'yes',\n",
    "    'streamingmovies': 'yes',\n",
    "    'contract': 'one_year',\n",
    "    'paperlessbilling': 'yes',\n",
    "    'paymentmethod': 'bank_transfer_(automatic)',\n",
    "    'monthlycharges': 79.85,\n",
    "    'totalcharges': 3320.75\n",
    "}"
   ]
  },
  {
   "cell_type": "code",
   "execution_count": null,
   "id": "2754e8bf",
   "metadata": {},
   "outputs": [],
   "source": [
    "df = pd.DataFrame([cliente])\n",
    "y_pred = predict(df, dv, modelo)\n",
    "y_pred[0]"
   ]
  },
  {
   "cell_type": "code",
   "execution_count": null,
   "id": "31751062",
   "metadata": {},
   "outputs": [],
   "source": [
    "def predict_cliente(cliente, dv, modelo):\n",
    "    X = dv.transform([cliente])\n",
    "    y_pred = modelo.predict_proba(X)[:, 1]\n",
    "    return y_pred[0]"
   ]
  },
  {
   "cell_type": "code",
   "execution_count": null,
   "id": "b8c6bb59",
   "metadata": {},
   "outputs": [],
   "source": [
    "predict_cliente(cliente, dv, modelo)"
   ]
  },
  {
   "cell_type": "markdown",
   "id": "01fe80c8",
   "metadata": {},
   "source": []
  }
 ],
 "metadata": {
  "kernelspec": {
   "display_name": "Python 3",
   "language": "python",
   "name": "python3"
  },
  "language_info": {
   "codemirror_mode": {
    "name": "ipython",
    "version": 3
   },
   "file_extension": ".py",
   "mimetype": "text/x-python",
   "name": "python",
   "nbconvert_exporter": "python",
   "pygments_lexer": "ipython3",
   "version": "3.7.10"
  }
 },
 "nbformat": 4,
 "nbformat_minor": 5
}
